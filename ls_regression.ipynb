{
 "cells": [
  {
   "cell_type": "code",
   "execution_count": 207,
   "metadata": {},
   "outputs": [
    {
     "data": {
      "image/png": "[encoded data removed]",
      "text/plain": [
       "<matplotlib.figure.Figure at 0x7f674572ddd8>"
      ]
     },
     "metadata": {},
     "output_type": "display_data"
    }
   ],
   "source": [
    "import numpy as np\n",
    "import matplotlib.pyplot as plt\n",
    "\n",
    "# https://stackoverflow.com/questions/18683821/generating-random-correlated-x-and-y-points-using-numpy\n",
    "def generate_points(n):\n",
    "  xx = np.array([0, 50.0])\n",
    "  yy = np.array([0.3, 30.0])\n",
    "  means = [xx.mean(), yy.mean()]\n",
    "  stds = [xx.std() / 3, yy.std() / 3]\n",
    "  corr = np.random.uniform(-1,1)\n",
    "  covs = [[stds[0]**2, stds[0]*stds[1]*corr],\n",
    "          [stds[0]*stds[1]*corr, stds[1]**2]]\n",
    "\n",
    "  m = np.random.multivariate_normal(means, covs, n).T\n",
    "  plt.scatter(m[0], m[1])\n",
    "  return m\n",
    "\n",
    "def calculate_sxx(pts):\n",
    "    xsqsum = np.sum(pts[0]**2)\n",
    "    xsumsq = np.sum(pts[0])**2\n",
    "    return (xsqsum - (xsumsq/pts.shape[1]))\n",
    "    \n",
    "def calculate_sxy(pts):\n",
    "    xysum = np.sum(pts[0]*pts[1])\n",
    "    sumx = np.sum(pts[0])\n",
    "    sumy = np.sum(pts[1])\n",
    "    return (xysum) - ((sumx*sumy)/pts.shape[1])\n",
    "    \n",
    "def ls_regression(pts):\n",
    "    sxx = float(calculate_sxx(pts))\n",
    "    sxy = float(calculate_sxy(pts))\n",
    "    xbar = np.mean(pts[0])\n",
    "    ybar = np.mean(pts[1])\n",
    "    \n",
    "    b = sxy/sxx\n",
    "    a = ybar - b*xbar\n",
    "    \n",
    "    graph(a, b, 'a+(b*x)', range(int(min(np.floor(pts[0]))), int(max(np.ceil(pts[0])))))\n",
    "\n",
    "# https://stackoverflow.com/questions/14000595/graphing-an-equation-with-matplotlib\n",
    "def graph(a, b, formula, x_range):\n",
    "    x = np.array(x_range)\n",
    "    y = eval(formula)\n",
    "    plt.plot(x,y)\n",
    "    plt.show()\n",
    "    \n",
    "pts = generate_points(50)\n",
    "ls_regression(pts)"
   ]
  }
 ],
 "metadata": {
  "kernelspec": {
   "display_name": "Python 2",
   "language": "python",
   "name": "python2"
  },
  "language_info": {
   "codemirror_mode": {
    "name": "ipython",
    "version": 3
   },
   "file_extension": ".py",
   "mimetype": "text/x-python",
   "name": "python",
   "nbconvert_exporter": "python",
   "pygments_lexer": "ipython3",
   "version": "3.6.1"
  }
 },
 "nbformat": 4,
 "nbformat_minor": 2
}
