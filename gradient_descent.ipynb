{
 "cells": [
  {
   "cell_type": "code",
   "execution_count": 17,
   "metadata": {},
   "outputs": [
    {
     "data": {
      "image/png": "[encoded data removed]",
      "text/plain": [
       "<matplotlib.figure.Figure at 0x1114d2f90>"
      ]
     },
     "metadata": {},
     "output_type": "display_data"
    }
   ],
   "source": [
    "import numpy as np\n",
    "import matplotlib.pyplot as plt\n",
    "\n",
    "# https://stackoverflow.com/questions/18683821/generating-random-correlated-x-and-y-points-using-numpy\n",
    "def generate_points(n):\n",
    "  xx = np.array([0, 50.0])\n",
    "  yy = np.array([0.3, 30.0])\n",
    "  means = [xx.mean(), yy.mean()]\n",
    "  stds = [xx.std() / 3, yy.std() / 3]\n",
    "  corr = np.random.uniform(-1,1)\n",
    "  covs = [[stds[0]**2, stds[0]*stds[1]*corr],\n",
    "          [stds[0]*stds[1]*corr, stds[1]**2]]\n",
    "\n",
    "  m = np.random.multivariate_normal(means, covs, n).T\n",
    "  plt.scatter(m[0], m[1])\n",
    "  return m\n",
    "\n",
    "def hyp_fn(t0,t1,x):  \n",
    "    return (t0 + t1*x)\n",
    "\n",
    "def calculate_t0(alpha,m,t0,t1,pts):\n",
    "    t0 = t0-(alpha*(1.0/m)*sum(hyp_fn(t0,t1,x)-y for x,y in zip(pts[0],pts[1])))\n",
    "    return t0\n",
    "\n",
    "def calculate_t1(alpha,m,t0,t1,pts):\n",
    "    t1 = t1-(alpha*(1.0/m)*sum((hyp_fn(t0,t1,x)-y)*x for x,y in zip(pts[0],pts[1])))\n",
    "    return t1\n",
    "\n",
    "# http://www.marcoaltini.com/blog/parameter-estimates-for-regression-least-squares-gradient-descent-and-monte-carlo-methods\n",
    "def gradient_descent(pts):\n",
    "    alpha = 0.001\n",
    "    m = pts.shape[1]\n",
    "    t0 = 0\n",
    "    t1 = 0\n",
    "    for i in xrange(100000):\n",
    "        t0 = calculate_t0(alpha,m,t0,t1,pts)\n",
    "        t1 = calculate_t1(alpha,m,t0,t1,pts)\n",
    "    \n",
    "    graph(t0, t1, 't0+(t1*x)', range(int(min(np.floor(pts[0]))), int(max(np.ceil(pts[0])))))\n",
    "\n",
    "# https://stackoverflow.com/questions/14000595/graphing-an-equation-with-matplotlib\n",
    "def graph(t0, t1, formula, x_range):\n",
    "    x = np.array(x_range)\n",
    "    y = eval(formula)\n",
    "    plt.plot(x,y)\n",
    "    plt.show()\n",
    "\n",
    "pts = generate_points(50)\n",
    "gradient_descent(pts)"
   ]
  }
 ],
 "metadata": {
  "kernelspec": {
   "display_name": "Python 2",
   "language": "python",
   "name": "python2"
  },
  "language_info": {
   "codemirror_mode": {
    "name": "ipython",
    "version": 2
   },
   "file_extension": ".py",
   "mimetype": "text/x-python",
   "name": "python",
   "nbconvert_exporter": "python",
   "pygments_lexer": "ipython2",
   "version": "2.7.13"
  }
 },
 "nbformat": 4,
 "nbformat_minor": 2
}
