{
 "cells": [
  {
   "cell_type": "code",
   "execution_count": 116,
   "metadata": {},
   "outputs": [
    {
     "data": {
      "image/png": "[encoded data removed]",
      "text/plain": [
       "<matplotlib.figure.Figure at 0x1040f0350>"
      ]
     },
     "metadata": {},
     "output_type": "display_data"
    }
   ],
   "source": [
    "import numpy as np\n",
    "import matplotlib.pyplot as plt\n",
    "\n",
    "# https://stackoverflow.com/questions/18683821/generating-random-correlated-x-and-y-points-using-numpy\n",
    "def generate_points(n):\n",
    "  xx = np.array([0, 50.0])\n",
    "  yy = np.array([0.3, 30.0])\n",
    "  means = [xx.mean(), yy.mean()]\n",
    "  stds = [xx.std() / 3, yy.std() / 3]\n",
    "  corr = np.random.uniform(-1,1)\n",
    "  covs = [[stds[0]**2, stds[0]*stds[1]*corr],\n",
    "          [stds[0]*stds[1]*corr, stds[1]**2]]\n",
    "\n",
    "  m = np.random.multivariate_normal(means, covs, n).T\n",
    "  plt.scatter(m[0], m[1])\n",
    "  return m\n",
    "\n",
    "# https://onlinecourses.science.psu.edu/stat501/node/382\n",
    "def mtx_regression(pts):\n",
    "    n = pts.shape[1]\n",
    "    sumx = np.sum(pts[0])\n",
    "    sumy = np.sum(pts[1])\n",
    "    sumxy = np.sum(pts[0]*pts[1])\n",
    "    sumxsq = np.sum(pts[0]**2)\n",
    "    \n",
    "    XpX = np.array([[n,    sumx  ],\n",
    "                    [sumx, sumxsq]])\n",
    "    \n",
    "    XpY = np.array([[sumy],\n",
    "                    [sumxy]])\n",
    "    \n",
    "    XpXi = np.linalg.inv(XpX)\n",
    "    b = np.matmul(XpXi, XpY)\n",
    "    \n",
    "    graph(b[0], b[1], 'a+(b*x)', range(int(min(np.floor(pts[0]))), int(max(np.ceil(pts[0])))))\n",
    "\n",
    "# https://stackoverflow.com/questions/14000595/graphing-an-equation-with-matplotlib\n",
    "def graph(a, b, formula, x_range):\n",
    "    x = np.array(x_range)\n",
    "    y = eval(formula)\n",
    "    plt.plot(x,y)\n",
    "    plt.show()\n",
    "    \n",
    "pts = generate_points(50)\n",
    "mtx_regression(pts)"
   ]
  },
  {
   "cell_type": "code",
   "execution_count": null,
   "metadata": {},
   "outputs": [],
   "source": []
  }
 ],
 "metadata": {
  "kernelspec": {
   "display_name": "Python 2",
   "language": "python",
   "name": "python2"
  },
  "language_info": {
   "codemirror_mode": {
    "name": "ipython",
    "version": 2
   },
   "file_extension": ".py",
   "mimetype": "text/x-python",
   "name": "python",
   "nbconvert_exporter": "python",
   "pygments_lexer": "ipython2",
   "version": "2.7.13"
  }
 },
 "nbformat": 4,
 "nbformat_minor": 2
}
